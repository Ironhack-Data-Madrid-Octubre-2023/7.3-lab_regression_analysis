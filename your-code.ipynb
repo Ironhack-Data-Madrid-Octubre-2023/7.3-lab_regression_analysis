{
 "cells": [
  {
   "cell_type": "markdown",
   "metadata": {},
   "source": [
    "# Lab: Regression Analysis"
   ]
  },
  {
   "cell_type": "code",
   "execution_count": 202,
   "metadata": {},
   "outputs": [],
   "source": [
    "seed = 42\n",
    "\n",
    "import warnings\n",
    "warnings.filterwarnings('ignore')\n",
    "\n",
    "import numpy as np\n",
    "import pandas as pd\n",
    "import pylab as plt\n",
    "import seaborn as sns\n",
    "\n",
    "from sklearn.preprocessing import StandardScaler\n",
    "from sklearn.model_selection import train_test_split\n",
    "\n",
    "from sklearn.datasets import load_iris\n",
    "from sklearn.svm import SVC, SVR, LinearSVR\n",
    "from sklearn.tree import DecisionTreeClassifier\n",
    "from sklearn.neural_network import MLPRegressor\n",
    "from sklearn.model_selection import train_test_split\n",
    "from sklearn.neighbors import KNeighborsClassifier, KNeighborsRegressor\n",
    "from sklearn.linear_model import LinearRegression, LogisticRegression, ElasticNet, Lasso, Ridge\n",
    "from sklearn.ensemble import RandomForestClassifier, GradientBoostingRegressor, RandomForestRegressor"
   ]
  },
  {
   "cell_type": "markdown",
   "metadata": {},
   "source": [
    "### Before you start:\n",
    "\n",
    "* Read the README.md file\n",
    "* Comment as much as you can and use the resources (README.md file) \n",
    "\n",
    "Happy learning!"
   ]
  },
  {
   "cell_type": "markdown",
   "metadata": {},
   "source": [
    "## Challenge 1\n",
    "I work at a coding bootcamp, and I have developed a theory that the younger my students are, the more often they are late to class. In order to test my hypothesis, I have collected some data in the following table:\n",
    "\n",
    "| StudentID | Age | Tardies |\n",
    "|--------|-----|------------|\n",
    "| 1      | 17  | 10         |\n",
    "| 2      | 51  | 1          |\n",
    "| 3      | 27  | 5          |\n",
    "| 4      | 21  | 9         |\n",
    "| 5      | 36  |  4         |\n",
    "| 6      | 48  |  2         |\n",
    "| 7      | 19  |  9         |\n",
    "| 8      | 26  | 6          |\n",
    "| 9      | 54  |  0         |\n",
    "| 10     | 30  |  3         |"
   ]
  },
  {
   "cell_type": "markdown",
   "metadata": {},
   "source": [
    "Use this command to create a dataframe with the data provided in the table. \n",
    "~~~~\n",
    "student_data = pd.DataFrame({'X': [x_values], 'Y': [y_values]})\n",
    "~~~~"
   ]
  },
  {
   "cell_type": "code",
   "execution_count": 25,
   "metadata": {},
   "outputs": [],
   "source": [
    "student_data = pd.DataFrame(columns = ['StudentID', 'Age', 'Tardies'], \n",
    "                            data = [[1, 17, 10], \n",
    "                                   [2, 51, 1],\n",
    "                                   [3, 27, 5],\n",
    "                                   [4, 21, 9],\n",
    "                                   [5, 36, 4],\n",
    "                                   [6, 48, 2],\n",
    "                                   [7, 19, 9],\n",
    "                                   [8, 26, 6],\n",
    "                                   [9, 54, 0],\n",
    "                                   [10, 30, 3]])"
   ]
  },
  {
   "cell_type": "markdown",
   "metadata": {},
   "source": [
    "Draw a dispersion diagram (scatter plot) for the data."
   ]
  },
  {
   "cell_type": "code",
   "execution_count": 125,
   "metadata": {},
   "outputs": [],
   "source": [
    "def reg_plot(x, y, namex =  None, namey = None, title = None):\n",
    "    \"\"\"\n",
    "    Create a scatter plot with a regression line.\n",
    "\n",
    "    Parameters:\n",
    "    - x (array-like): Data for the x-axis.\n",
    "    - y (array-like): Data for the y-axis.\n",
    "    - namex (str, optional): Label for the x-axis. Default is None.\n",
    "    - namey (str, optional): Label for the y-axis. Default is None.\n",
    "    - title (str, optional): Title of the plot. Default is None.\n",
    "\n",
    "    Returns:\n",
    "    None\n",
    "\n",
    "    This function uses Seaborn's regplot to create a scatter plot with a\n",
    "    regression line. It allows customization of axis labels and plot title.\n",
    "    The resulting plot is displayed.\n",
    "    \"\"\"\n",
    "    fig = plt.figure(facecolor = 'none', figsize = (5, 5))\n",
    "    ax = fig.add_subplot(111, facecolor = 'none')\n",
    "\n",
    "    sns.regplot(x = x, \n",
    "                y = y,\n",
    "                color = 'r')\n",
    "    plt.title(title)\n",
    "    plt.xlabel(namex)\n",
    "    plt.ylabel(namey)\n",
    "    ax.tick_params(axis = 'both', \n",
    "               colors = 'grey')\n",
    "    ax.xaxis.label.set_color('grey')\n",
    "    ax.yaxis.label.set_color('grey')\n",
    "    ax.spines['bottom'].set_color('grey')\n",
    "    ax.spines['top'].set_color('grey')\n",
    "    ax.spines['right'].set_color('grey')\n",
    "    ax.spines['left'].set_color('grey')\n",
    "    plt.show();"
   ]
  },
  {
   "cell_type": "code",
   "execution_count": 126,
   "metadata": {},
   "outputs": [
    {
     "data": {
      "image/png": "[encoded data removed]",
      "text/plain": [
       "<Figure size 500x500 with 1 Axes>"
      ]
     },
     "metadata": {
      "needs_background": "dark"
     },
     "output_type": "display_data"
    }
   ],
   "source": [
    "x = student_data['Age']\n",
    "y = student_data['Tardies']\n",
    "namex, namey = ['Age', 'Tardies']\n",
    "\n",
    "reg_plot(x, y, namex, namey, title = None)"
   ]
  },
  {
   "cell_type": "markdown",
   "metadata": {},
   "source": [
    "Do you see a trend? Can you make any hypotheses about the relationship between age and number of tardies?"
   ]
  },
  {
   "cell_type": "code",
   "execution_count": 55,
   "metadata": {},
   "outputs": [],
   "source": [
    "'''\n",
    "It looks like there is a tendency in which:\n",
    "the amount of Tardies decrease with (the increase of) the Age.\n",
    "''';"
   ]
  },
  {
   "cell_type": "markdown",
   "metadata": {},
   "source": [
    "Calculate the covariance and correlation of the variables in your plot. What is the difference between these two measures? Compare their values. What do they tell you in this case? Add your responses as comments after your code."
   ]
  },
  {
   "cell_type": "code",
   "execution_count": 57,
   "metadata": {},
   "outputs": [
    {
     "data": {
      "text/plain": [
       "-45.56666666666666"
      ]
     },
     "execution_count": 57,
     "metadata": {},
     "output_type": "execute_result"
    }
   ],
   "source": [
    "# covariance \n",
    "\n",
    "student_data['Age'].cov(student_data['Tardies'])"
   ]
  },
  {
   "cell_type": "code",
   "execution_count": 58,
   "metadata": {},
   "outputs": [
    {
     "data": {
      "text/html": [
       "<div>\n",
       "<style scoped>\n",
       "    .dataframe tbody tr th:only-of-type {\n",
       "        vertical-align: middle;\n",
       "    }\n",
       "\n",
       "    .dataframe tbody tr th {\n",
       "        vertical-align: top;\n",
       "    }\n",
       "\n",
       "    .dataframe thead th {\n",
       "        text-align: right;\n",
       "    }\n",
       "</style>\n",
       "<table border=\"1\" class=\"dataframe\">\n",
       "  <thead>\n",
       "    <tr style=\"text-align: right;\">\n",
       "      <th></th>\n",
       "      <th>StudentID</th>\n",
       "      <th>Age</th>\n",
       "      <th>Tardies</th>\n",
       "    </tr>\n",
       "  </thead>\n",
       "  <tbody>\n",
       "    <tr>\n",
       "      <th>StudentID</th>\n",
       "      <td>1.000000</td>\n",
       "      <td>0.186190</td>\n",
       "      <td>-0.347113</td>\n",
       "    </tr>\n",
       "    <tr>\n",
       "      <th>Age</th>\n",
       "      <td>0.186190</td>\n",
       "      <td>1.000000</td>\n",
       "      <td>-0.939163</td>\n",
       "    </tr>\n",
       "    <tr>\n",
       "      <th>Tardies</th>\n",
       "      <td>-0.347113</td>\n",
       "      <td>-0.939163</td>\n",
       "      <td>1.000000</td>\n",
       "    </tr>\n",
       "  </tbody>\n",
       "</table>\n",
       "</div>"
      ],
      "text/plain": [
       "           StudentID       Age   Tardies\n",
       "StudentID   1.000000  0.186190 -0.347113\n",
       "Age         0.186190  1.000000 -0.939163\n",
       "Tardies    -0.347113 -0.939163  1.000000"
      ]
     },
     "execution_count": 58,
     "metadata": {},
     "output_type": "execute_result"
    }
   ],
   "source": [
    "# correlation:\n",
    "\n",
    "student_data.corr()"
   ]
  },
  {
   "cell_type": "code",
   "execution_count": null,
   "metadata": {},
   "outputs": [],
   "source": [
    "'''\n",
    "Both parametters measures the linear relationship between the two variables.\n",
    "\n",
    "The covariance uses the units of the variables,\n",
    "(years, days) in this case, and\n",
    "the correlation is a standardized measure \n",
    "with values comprised between [0, 1]\n",
    "''';"
   ]
  },
  {
   "cell_type": "markdown",
   "metadata": {},
   "source": [
    "Build a regression model for this data. What will be your outcome variable? What type of regression are you using? Add your responses as comments after your code."
   ]
  },
  {
   "cell_type": "code",
   "execution_count": 73,
   "metadata": {},
   "outputs": [],
   "source": [
    "# We will predict the 'Tardies'\n",
    "# Here X is x because it is a vector and not a Matrix and we're following the mathematical notation\n",
    "\n",
    "x = student_data['Age']\n",
    "y = student_data['Tardies']\n",
    "\n",
    "x_train, x_test, y_train, y_test = train_test_split(x, \n",
    "                                                    y, \n",
    "                                                    train_size = 0.8,\n",
    "                                                    test_size = 0.2,\n",
    "                                                    random_state = seed)\n",
    "\n",
    "\n",
    "# 'standarize' x --> N(0, 1)\n",
    "\n",
    "scaler = StandardScaler()\n",
    "\n",
    "scaler.fit(x_train.values.reshape(-1, 1))\n",
    "\n",
    "x_train = scaler.transform(x_train.values.reshape(-1, 1))\n",
    "x_test = scaler.transform(x_test.values.reshape(-1, 1))"
   ]
  },
  {
   "cell_type": "code",
   "execution_count": 74,
   "metadata": {},
   "outputs": [],
   "source": [
    "# I'll try different linear regressions at once:\n",
    "regressors = {'LinReg': LinearRegression(),\n",
    "              'Lasso': Lasso(),\n",
    "              'Ridge': Ridge(),\n",
    "              'ElNet': ElasticNet()}"
   ]
  },
  {
   "cell_type": "code",
   "execution_count": 200,
   "metadata": {},
   "outputs": [],
   "source": [
    "def fit_and_score(models, X_train = X_train, X_test = X_test, y_train = y_train, y_test = y_test):\n",
    "    \"\"\"\n",
    "    Fits the given machine learning models to the training data and evaluates their performance on the test data.\n",
    "\n",
    "    Parameters:\n",
    "    - models (dict): A dictionary where keys are model names and values are the corresponding machine learning models.\n",
    "    - X_train (array-like): Feature matrix of the training set.\n",
    "    - X_test (array-like): Feature matrix of the test set.\n",
    "    - y_train (array-like): True labels of the training set.\n",
    "    - y_test (array-like): True labels of the test set.\n",
    "\n",
    "    Returns:\n",
    "    dict: A dictionary where keys are model names and values are their corresponding accuracy scores on the test set.\n",
    "\n",
    "    This function takes a dictionary of machine learning models and fits each model to the training data.\n",
    "    It then evaluates the performance of each model on the provided test data using the `score` method, \n",
    "    and returns a dictionary of model names and their corresponding accuracy scores.\n",
    "    \"\"\"\n",
    "    model_scores = {}\n",
    "    for name, model in models.items():\n",
    "        model.fit(X_train, y_train)\n",
    "        model_scores[name] = round(model.score(X_test, y_test), 2)\n",
    "    return model_scores "
   ]
  },
  {
   "cell_type": "code",
   "execution_count": 80,
   "metadata": {},
   "outputs": [
    {
     "data": {
      "text/html": [
       "<div>\n",
       "<style scoped>\n",
       "    .dataframe tbody tr th:only-of-type {\n",
       "        vertical-align: middle;\n",
       "    }\n",
       "\n",
       "    .dataframe tbody tr th {\n",
       "        vertical-align: top;\n",
       "    }\n",
       "\n",
       "    .dataframe thead th {\n",
       "        text-align: right;\n",
       "    }\n",
       "</style>\n",
       "<table border=\"1\" class=\"dataframe\">\n",
       "  <thead>\n",
       "    <tr style=\"text-align: right;\">\n",
       "      <th></th>\n",
       "      <th>Model</th>\n",
       "      <th>R2</th>\n",
       "    </tr>\n",
       "  </thead>\n",
       "  <tbody>\n",
       "    <tr>\n",
       "      <th>2</th>\n",
       "      <td>Ridge</td>\n",
       "      <td>0.54</td>\n",
       "    </tr>\n",
       "  </tbody>\n",
       "</table>\n",
       "</div>"
      ],
      "text/plain": [
       "   Model    R2\n",
       "2  Ridge  0.54"
      ]
     },
     "execution_count": 80,
     "metadata": {},
     "output_type": "execute_result"
    }
   ],
   "source": [
    "reg_r2 = fit_and_score(regressors, X_train = x_train, X_test = x_test)\n",
    "\n",
    "regressors_df = pd.DataFrame(reg_r2.items(), columns=[\"Model\", \"R2\"])\n",
    "regressors_df = regressors_df[regressors_df['R2'] >= 0]\n",
    "regressors_df"
   ]
  },
  {
   "cell_type": "code",
   "execution_count": 81,
   "metadata": {},
   "outputs": [],
   "source": [
    "'''\n",
    "The only regression with an acceptable value of R2 is Ridge.\n",
    "''';"
   ]
  },
  {
   "cell_type": "markdown",
   "metadata": {},
   "source": [
    "Plot your regression model on your scatter plot."
   ]
  },
  {
   "cell_type": "code",
   "execution_count": 145,
   "metadata": {},
   "outputs": [
    {
     "name": "stdout",
     "output_type": "stream",
     "text": [
      "0.7939644294386468 0.5433195371943667 -2.254189953931864 6.0\n"
     ]
    }
   ],
   "source": [
    "ridge = Ridge()\n",
    "\n",
    "ridge.fit(x_train, y_train)\n",
    "\n",
    "train_score = ridge.score(x_train, y_train)\n",
    "test_score = ridge.score(x_test, y_test)\n",
    "\n",
    "print(train_score, test_score, ridge.coef_[0], ridge.intercept_)"
   ]
  },
  {
   "cell_type": "code",
   "execution_count": 179,
   "metadata": {},
   "outputs": [],
   "source": [
    "def scatter_plot(x, y, namex = None, namey = None, title = None, slope = None, intercept = None):\n",
    "    \"\"\"\n",
    "    Create a scatter plot with an optional regression line and equation.\n",
    "\n",
    "    Parameters:\n",
    "    - x (array-like): Data for the x-axis.\n",
    "    - y (array-like): Data for the y-axis.\n",
    "    - namex (str, optional): Label for the x-axis. Default is None.\n",
    "    - namey (str, optional): Label for the y-axis. Default is None.\n",
    "    - title (str, optional): Title of the plot. Default is None.\n",
    "    - slope (float, optional): Slope of the regression line. Default is None.\n",
    "    - intercept (float, optional): Intercept of the regression line. Default is None.\n",
    "\n",
    "    Returns:\n",
    "    None\n",
    "\n",
    "    This function creates a scatter plot using Seaborn's regplot. It allows customization\n",
    "    of axis labels and plot title. Optionally, if slope and intercept are provided, it\n",
    "    annotates the plot with the equation of the regression line.\n",
    "    \"\"\"\n",
    "    fig = plt.figure(facecolor = 'none', figsize = (5, 5))\n",
    "    ax = fig.add_subplot(111, facecolor = 'none')\n",
    "    \n",
    "    sns.regplot(x = x, \n",
    "                y = y, \n",
    "                color = 'r')\n",
    "\n",
    "    plt.title(title)\n",
    "    plt.xlabel(namex)\n",
    "    plt.ylabel(namey)\n",
    "\n",
    "    if slope is not None and intercept is not None:\n",
    "        equation_text = f'y = {slope:.2f}x + {intercept:.2f}'\n",
    "        plt.annotate(equation_text, \n",
    "                     xy = (0.6, 0.9), \n",
    "                     xycoords = 'axes fraction', \n",
    "                     fontsize = 10,\n",
    "                     color = 'grey')\n",
    "        \n",
    "    ax.tick_params(axis = 'both', \n",
    "               colors = 'grey')\n",
    "    ax.xaxis.label.set_color('grey')\n",
    "    ax.yaxis.label.set_color('grey')\n",
    "    ax.spines['bottom'].set_color('grey')\n",
    "    ax.spines['top'].set_color('grey')\n",
    "    ax.spines['right'].set_color('grey')\n",
    "    ax.spines['left'].set_color('grey')\n",
    "    plt.show();"
   ]
  },
  {
   "cell_type": "code",
   "execution_count": 180,
   "metadata": {},
   "outputs": [
    {
     "data": {
      "image/png": "[encoded data removed]",
      "text/plain": [
       "<Figure size 500x500 with 1 Axes>"
      ]
     },
     "metadata": {
      "needs_background": "dark"
     },
     "output_type": "display_data"
    }
   ],
   "source": [
    "x = student_data['Age']\n",
    "y = student_data['Tardies']\n",
    "namex, namey = ['Age', 'Tardies']\n",
    "slope = ridge.coef_[0]\n",
    "intercept = ridge.intercept_\n",
    "\n",
    "scatter_plot(x, y, namex, namey, slope = slope, intercept = intercept)"
   ]
  },
  {
   "cell_type": "markdown",
   "metadata": {},
   "source": [
    "Interpret the results of your model. What can conclusions can you draw from your model and how confident in these conclusions are you? Can we say that age is a good predictor of tardiness? Add your responses as comments after your code."
   ]
  },
  {
   "cell_type": "code",
   "execution_count": 150,
   "metadata": {},
   "outputs": [],
   "source": [
    "# Interpret the results of your model. \n",
    "# What can conclusions can you draw from your model and how confident in these conclusions are you? \n",
    "'''\n",
    "Ridge model is fitting better than the rest, because of the score.\n",
    "However, it is still a bad model because it is overfitting,\n",
    "the difference between R2 values of the training and the testing sets is bigger than 10%,\n",
    "it is indeed decreasing a 25% in the test.\n",
    "'''\n",
    "\n",
    "# Can we say that age is a good predictor of tardiness?\n",
    "'''\n",
    "With this amount of data, it seems that there is a tendency...\n",
    "However, I would like to improve the model score before throwing more light...\n",
    "''';"
   ]
  },
  {
   "cell_type": "markdown",
   "metadata": {},
   "source": [
    "## Challenge 2\n",
    "For the second part of this lab, we will use the vehicles.csv data set. You can find a copy of the dataset in the git hub folder. This dataset includes variables related to vehicle characteristics, including the model, make, and energy efficiency standards, as well as each car's CO2 emissions. As discussed in class the goal of this exercise is to predict vehicles' CO2 emissions based on several independent variables. "
   ]
  },
  {
   "cell_type": "code",
   "execution_count": 155,
   "metadata": {},
   "outputs": [],
   "source": [
    "vehicles = pd.read_csv('vehicles.csv')"
   ]
  },
  {
   "cell_type": "markdown",
   "metadata": {},
   "source": [
    "Let's use the following variables for our analysis: Year, Cylinders, Fuel Barrels/Year, Combined MPG, and Fuel Cost/Year. We will use 'CO2 Emission Grams/Mile' as our outcome variable. \n",
    "\n",
    "Calculate the correlations between each of these variables and the outcome. Which variable do you think will be the most important in determining CO2 emissions? Which provides the least amount of helpful information for determining CO2 emissions? Add your responses as comments after your code."
   ]
  },
  {
   "cell_type": "code",
   "execution_count": 164,
   "metadata": {},
   "outputs": [],
   "source": [
    "vehicles = vehicles[['Year', 'Cylinders', 'Fuel Barrels/Year', 'Combined MPG', 'Fuel Cost/Year', 'CO2 Emission Grams/Mile']]"
   ]
  },
  {
   "cell_type": "code",
   "execution_count": 165,
   "metadata": {},
   "outputs": [],
   "source": [
    "def plt_corr(df):\n",
    "    \"\"\"\n",
    "    Generate and display a heatmap of the correlation matrix for a given DataFrame.\n",
    "\n",
    "    Parameters:\n",
    "    - df (pd.DataFrame): The input DataFrame for which the correlation matrix will be visualized.\n",
    "\n",
    "    Returns:\n",
    "    None\n",
    "\n",
    "    This function creates a heatmap using seaborn to display the correlation matrix of the input DataFrame.\n",
    "    The upper triangle of the heatmap is masked to focus on the lower triangle, and correlation values are annotated\n",
    "    within each cell. The color map 'Greys' is used, and the color bar is adjusted to shrink its size.\n",
    "    \"\"\"\n",
    "    fig = plt.figure(facecolor = 'none', \n",
    "                     figsize = (10, 10))\n",
    "\n",
    "    ax = fig.add_subplot(111, \n",
    "                         facecolor = 'none')\n",
    "\n",
    "    mask = np.triu(np.ones_like(df.corr(), \n",
    "                                dtype = bool))\n",
    "\n",
    "    sns.heatmap(df.corr(),\n",
    "                mask = mask,\n",
    "                cmap = 'Greys',\n",
    "                center = 0,\n",
    "                annot = True,\n",
    "                cbar_kws = {'shrink': 0.5})\n",
    "\n",
    "    ax.tick_params(axis = 'both', \n",
    "                   colors = 'grey')\n",
    "    ax.xaxis.label.set_color('grey')\n",
    "    ax.yaxis.label.set_color('grey')\n",
    "    plt.show();"
   ]
  },
  {
   "cell_type": "code",
   "execution_count": 166,
   "metadata": {},
   "outputs": [
    {
     "data": {
      "image/png": "[encoded data removed]",
      "text/plain": [
       "<Figure size 1000x1000 with 2 Axes>"
      ]
     },
     "metadata": {},
     "output_type": "display_data"
    }
   ],
   "source": [
    "plt_corr(vehicles)"
   ]
  },
  {
   "cell_type": "code",
   "execution_count": 168,
   "metadata": {},
   "outputs": [],
   "source": [
    "'''\n",
    "From the correlation Matrix we can conclude that the column 'Fuel Cost/Year' can be removed\n",
    "This is because the colinearity with 'Fuel Barrels/Year'.\n",
    "From the two, I decided to save 'Fuel Cost/Year' because the corretation with our target is higher.\n",
    "'''\n",
    "# Which provides the least amount of helpful information for determining CO2 emissions?\n",
    "'''\n",
    "The column 'Year' is the one with the correlation value closer to 0,\n",
    "that indicates no correlation.\n",
    "''';"
   ]
  },
  {
   "cell_type": "markdown",
   "metadata": {},
   "source": [
    "Build a regression model for this data. What type of regression are you using? Add your responses as comments after your code."
   ]
  },
  {
   "cell_type": "code",
   "execution_count": 186,
   "metadata": {},
   "outputs": [],
   "source": [
    "# Separate the data\n",
    "\n",
    "X = vehicles.drop('CO2 Emission Grams/Mile', axis = 1)\n",
    "y = vehicles['CO2 Emission Grams/Mile']\n",
    "\n",
    "X_train, X_test, y_train, y_test = train_test_split(X, \n",
    "                                                    y, \n",
    "                                                    train_size = 0.8,\n",
    "                                                    test_size = 0.2,\n",
    "                                                    random_state = seed)\n",
    "\n",
    "# Normalize the data\n",
    "\n",
    "scaler = StandardScaler()\n",
    "\n",
    "scaler.fit(X_train)\n",
    "\n",
    "X_train = scaler.transform(X_train)\n",
    "X_test = scaler.transform(X_test)"
   ]
  },
  {
   "cell_type": "code",
   "execution_count": 196,
   "metadata": {},
   "outputs": [
    {
     "data": {
      "text/plain": [
       "((28761, 5), (7191, 5), (28761,), (7191,))"
      ]
     },
     "execution_count": 196,
     "metadata": {},
     "output_type": "execute_result"
    }
   ],
   "source": [
    "X_train.shape, X_test.shape, y_train.shape, y_test.shape"
   ]
  },
  {
   "cell_type": "code",
   "execution_count": 218,
   "metadata": {},
   "outputs": [],
   "source": [
    "regres = {'GrBoo': GradientBoostingRegressor(),\n",
    "          'ElN': ElasticNet(),\n",
    "          'Las': Lasso(),\n",
    "          'Rid': Ridge(),\n",
    "          'MLP': MLPRegressor(),\n",
    "          'KNR': KNeighborsRegressor(),\n",
    "          'lSVR': LinearSVR(),\n",
    "          'RF': RandomForestRegressor(),\n",
    "          'SVR': SVR(),\n",
    "          'lReg': LinearRegression()}"
   ]
  },
  {
   "cell_type": "code",
   "execution_count": 219,
   "metadata": {},
   "outputs": [],
   "source": [
    "models_r2 = fit_and_score(models = regres, X_train = X_train, X_test = X_test, y_train = y_train, y_test = y_test)"
   ]
  },
  {
   "cell_type": "code",
   "execution_count": 220,
   "metadata": {},
   "outputs": [],
   "source": [
    "models_df = pd.DataFrame(models_r2.items(), columns=[\"Model\", \"R2\"])\n",
    "models_df = models_df[models_df['R2'] >= 0]"
   ]
  },
  {
   "cell_type": "markdown",
   "metadata": {},
   "source": [
    "Print your regression summary, and interpret the results. What are the most important varibles in your model and why? What can conclusions can you draw from your model and how confident in these conclusions are you? Add your responses as comments after your code."
   ]
  },
  {
   "cell_type": "code",
   "execution_count": 226,
   "metadata": {},
   "outputs": [
    {
     "data": {
      "image/png": "[encoded data removed]",
      "text/plain": [
       "<Figure size 500x500 with 1 Axes>"
      ]
     },
     "metadata": {
      "needs_background": "dark"
     },
     "output_type": "display_data"
    }
   ],
   "source": [
    "fig = plt.figure(facecolor = 'none', figsize = (5, 5))\n",
    "ax = fig.add_subplot(111, facecolor = 'none')\n",
    "\n",
    "xaxis = models_df['Model']\n",
    "yaxis = models_df['R2']\n",
    "\n",
    "sns.barplot(x = xaxis, \n",
    "            y = yaxis,\n",
    "            color = 'grey')\n",
    "\n",
    "ax.bar_label(ax.containers[0], \n",
    "             label_type = 'center',\n",
    "             color = 'black')\n",
    "\n",
    "ax.set_ylim(0, 1)\n",
    "ax.set_xticklabels(labels = xaxis, \n",
    "                   rotation = 45)\n",
    "ax.set_ylabel('R2 Score', \n",
    "              fontsize = 12)\n",
    "ax.set_xlabel('')\n",
    "ax.tick_params(axis = 'both', \n",
    "               colors = 'grey')\n",
    "ax.xaxis.label.set_color('grey')\n",
    "ax.yaxis.label.set_color('grey')\n",
    "ax.spines['bottom'].set_color('grey')\n",
    "ax.spines['top'].set_color('grey')\n",
    "ax.spines['right'].set_color('grey')\n",
    "ax.spines['left'].set_color('grey')\n",
    "\n",
    "plt.show();"
   ]
  },
  {
   "cell_type": "code",
   "execution_count": null,
   "metadata": {},
   "outputs": [],
   "source": [
    "'''\n",
    "Regression models with R2_score = 1:\n",
    "\n",
    "    'GrBoo': GradientBoostingRegressor()\n",
    "    'MLP': MLPRegressor()\n",
    "    'KNR': KNeighborsRegressor()\n",
    "    'RF': RandomForestRegressor()\n",
    "\n",
    "R2_score = 0.98:\n",
    "\n",
    "    'Las': Lasso()\n",
    "    'Rid': Ridge()\n",
    "    'lReg': LinearRegression()\n",
    "    \n",
    "R2_score < 0.98:\n",
    "\n",
    "    'lSVR': LinearSVR()\n",
    "    'SVR': SVR()\n",
    "    'ElN': ElasticNet()\n",
    "''';"
   ]
  },
  {
   "cell_type": "markdown",
   "metadata": {},
   "source": [
    "## Bonus Challenge: Error Analysis"
   ]
  },
  {
   "cell_type": "markdown",
   "metadata": {},
   "source": [
    "I am suspicious about the last few parties I have thrown: it seems that the more people I invite the more people are unable to attend. To know if my hunch is supported by data, I have decided to do an analysis. I have collected my data in the table below, where X is the number of people I invited, and Y is the number of people who attended. \n",
    "\n",
    "|  X |  Y |\n",
    "|----|----|\n",
    "| 1  |  1 |\n",
    "| 3  |  2 |\n",
    "| 4  |  4 |\n",
    "| 6  |  4 |\n",
    "| 8  |  5 |\n",
    "| 9  |  7 |\n",
    "| 11 |  8 |\n",
    "| 14 |  13 |"
   ]
  },
  {
   "cell_type": "markdown",
   "metadata": {},
   "source": [
    "We want to know if the relationship modeled by the two random variables is linear or not, and therefore if it is appropriate to model it with a linear regression. \n",
    "First, build a dataframe with the data. "
   ]
  },
  {
   "cell_type": "code",
   "execution_count": 231,
   "metadata": {},
   "outputs": [],
   "source": [
    "data = pd.DataFrame(columns = ['X', 'Y'], \n",
    "                    data = [[1, 1],\n",
    "                            [3, 2],\n",
    "                            [4, 4],\n",
    "                            [6, 4],\n",
    "                            [8, 5],\n",
    "                            [9, 7],\n",
    "                            [11, 8],\n",
    "                            [14, 13]])"
   ]
  },
  {
   "cell_type": "markdown",
   "metadata": {},
   "source": [
    "Draw a dispersion diagram (scatter plot) for the data, and fit a regression line."
   ]
  },
  {
   "cell_type": "code",
   "execution_count": 232,
   "metadata": {},
   "outputs": [
    {
     "data": {
      "image/png": "[encoded data removed]",
      "text/plain": [
       "<Figure size 500x500 with 1 Axes>"
      ]
     },
     "metadata": {
      "needs_background": "dark"
     },
     "output_type": "display_data"
    }
   ],
   "source": [
    "x = data['X']\n",
    "y = data['Y']\n",
    "namex, namey = ['Invited', 'Attended']\n",
    "\n",
    "reg_plot(x, y, namex, namey, title = None)"
   ]
  },
  {
   "cell_type": "markdown",
   "metadata": {},
   "source": [
    "What do you see? What does this plot tell you about the likely relationship between the variables? Print the results from your regression."
   ]
  },
  {
   "cell_type": "code",
   "execution_count": 243,
   "metadata": {},
   "outputs": [],
   "source": [
    "'''\n",
    "It seems that there is a tendency:\n",
    "The more you invite, the more will attend\n",
    "\n",
    "The Linear Regression showed in the plot is plotted together with \n",
    "the confidence interval of the regression...\n",
    "\n",
    "There are some points with a bigger error than that.\n",
    "''';"
   ]
  }
 ],
 "metadata": {
  "kernelspec": {
   "display_name": "Python 3 (ipykernel)",
   "language": "python",
   "name": "python3"
  },
  "language_info": {
   "codemirror_mode": {
    "name": "ipython",
    "version": 3
   },
   "file_extension": ".py",
   "mimetype": "text/x-python",
   "name": "python",
   "nbconvert_exporter": "python",
   "pygments_lexer": "ipython3",
   "version": "3.11.4"
  },
  "toc": {
   "base_numbering": 1,
   "nav_menu": {},
   "number_sections": true,
   "sideBar": true,
   "skip_h1_title": false,
   "title_cell": "Table of Contents",
   "title_sidebar": "Contents",
   "toc_cell": false,
   "toc_position": {},
   "toc_section_display": true,
   "toc_window_display": false
  }
 },
 "nbformat": 4,
 "nbformat_minor": 2
}
